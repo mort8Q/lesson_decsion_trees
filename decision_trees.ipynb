{
 "nbformat": 4,
 "nbformat_minor": 2,
 "metadata": {
  "language_info": {
   "name": "python",
   "codemirror_mode": {
    "name": "ipython",
    "version": 3
   }
  },
  "orig_nbformat": 2,
  "file_extension": ".py",
  "mimetype": "text/x-python",
  "name": "python",
  "npconvert_exporter": "python",
  "pygments_lexer": "ipython3",
  "version": 3,
  "kernelspec": {
   "name": "python3",
   "display_name": "Python 3"
  }
 },
 "cells": [
  {
   "cell_type": "markdown",
   "metadata": {},
   "source": [
    "# Decision Trees \n",
    "#### By: Mortaja Alqassab "
   ],
   "execution_count": null,
   "outputs": []
  },
  {
   "cell_type": "markdown",
   "metadata": {},
   "source": [
    "### Learning Objective: \n",
    "- Learn to implemnet decision trees using sklearn. \n",
    "- Learn how to predict using new sample data. \n",
    "- Learn how to tune a decision tree by changing different paramters. "
   ],
   "execution_count": null,
   "outputs": []
  },
  {
   "cell_type": "markdown",
   "metadata": {},
   "source": [
    "### What is a Decision Tree? \n",
    "Decision Trees are tree-like structures which consists of nodes (representing an test on an feature) and branches (representing an outcome from a test). \n",
    "\n",
    "<img src=\"assets/Decision tree.jpeg\" style=\"height: 500px; width;500px\">"
   ],
   "execution_count": null,
   "outputs": []
  },
  {
   "cell_type": "markdown",
   "metadata": {},
   "source": [
    "### Can we manually construct a decsion tree!\n",
    "We will write a function to to take one variable and gives us a decsion based on the output"
   ],
   "execution_count": null,
   "outputs": []
  },
  {
   "cell_type": "markdown",
   "metadata": {},
   "source": [
    "We will use a dataset from kaggle. Please go ahead and download the dataset and place it in the data sub-folder.\n",
    "[covid-19 symptoms checker](https://www.kaggle.com/iamhungundji/covid19-symptoms-checker)\n"
   ],
   "execution_count": null,
   "outputs": []
  },
  {
   "cell_type": "code",
   "execution_count": 50,
   "metadata": {},
   "outputs": [],
   "source": [
    "import pandas as pd \n",
    "import numpy as np \n",
    "\n",
    "from sklearn.tree import DecisionTreeClassifier \n",
    "from sklearn.model_selection import train_test_split \n",
    "from sklearn.metrics import accuracy_score, confusion_matrix "
   ]
  },
  {
   "cell_type": "code",
   "execution_count": 46,
   "metadata": {},
   "outputs": [],
   "source": [
    "data = pd.read_csv('data/covid19-symptoms-checker/Cleaned-Data.csv')"
   ]
  },
  {
   "cell_type": "code",
   "execution_count": 47,
   "metadata": {},
   "outputs": [],
   "source": [
    "# Define a fuction to take a feature and gives us a decision\n",
    "def get_decision(dataset, feature, feature_value, target):\n",
    "    decision = data.loc[ data[feature] == feature_value, target].value_counts().sort_values(ascending=False).index[0]\n",
    "    return decision\n",
    ""
   ]
  },
  {
   "cell_type": "code",
   "execution_count": 48,
   "metadata": {},
   "outputs": [
    {
     "output_type": "execute_result",
     "data": {
      "text/plain": "0"
     },
     "metadata": {},
     "execution_count": 48
    }
   ],
   "source": [
    "get_decision(data, 'None_Sympton', 1,'None_Experiencing')"
   ]
  },
  {
   "cell_type": "markdown",
   "metadata": {},
   "source": [
    "### Practice Check\n",
    "Write a function that takes two variables and returns a decsion"
   ],
   "execution_count": null,
   "outputs": []
  },
  {
   "cell_type": "markdown",
   "metadata": {},
   "source": [
    "### Scikit Learn Implementation"
   ],
   "execution_count": null,
   "outputs": []
  },
  {
   "cell_type": "code",
   "execution_count": null,
   "metadata": {},
   "outputs": [],
   "source": []
  },
  {
   "cell_type": "code",
   "execution_count": 49,
   "metadata": {},
   "outputs": [
    {
     "output_type": "execute_result",
     "data": {
      "text/plain": "DecisionTreeClassifier(class_weight=None, criterion='gini', max_depth=7,\n            max_features=None, max_leaf_nodes=None,\n            min_impurity_decrease=0.0, min_impurity_split=None,\n            min_samples_leaf=1, min_samples_split=2,\n            min_weight_fraction_leaf=0.0, presort=False, random_state=None,\n            splitter='best')"
     },
     "metadata": {},
     "execution_count": 49
    }
   ],
   "source": [
    "data = pd.get_dummies(data, prefix=['Country'], columns=['Country'], drop_first=True)\n",
    "y = data.pop('None_Experiencing')\n",
    "x = data.copy() \n",
    "\n",
    "x_train, x_test, y_train ,y_test = train_test_split(x, y, test_size=0.25, random_state=42)\n",
    "\n",
    "model = DecisionTreeClassifier(criterion='gini', max_depth=7, min_samples_split=2)\n",
    "model.fit(x_train, y_train)\n",
    ""
   ]
  },
  {
   "cell_type": "code",
   "execution_count": 51,
   "metadata": {},
   "outputs": [
    {
     "output_type": "stream",
     "name": "stdout",
     "text": "Accuracy on test data:  1.0\n"
    }
   ],
   "source": [
    "y_hat = model.predict(x_test) \n",
    "print('Accuracy on test data: ', accuracy_score(y_test, y_hat))"
   ]
  },
  {
   "cell_type": "code",
   "execution_count": 52,
   "metadata": {},
   "outputs": [
    {
     "output_type": "execute_result",
     "data": {
      "text/plain": "array([[71985,     0],\n       [    0,  7215]])"
     },
     "metadata": {},
     "execution_count": 52
    }
   ],
   "source": [
    "confusion_matrix(y_test, y_hat)"
   ]
  },
  {
   "cell_type": "markdown",
   "metadata": {},
   "source": [
    "### Practice Check\n",
    "- Find a public (opensource) dataset. \n",
    "- Build a decision tree model. \n",
    "- Predict on a test set.\n",
    "- Get evaluation metrics and explain your findings."
   ]
  },
  {
   "cell_type": "markdown",
   "metadata": {},
   "source": [
    "### Assignment\n",
    "- Find a public (opensource) dataset. \n",
    "- Build a decision tree model. \n",
    "- Predict on a test set.\n",
    "- Get evaluation metrics and explain your findings.\n",
    "- From previous lessons; we implemented Gridsearh on other algorithms, implement Gridsearch to find the best parameters on your unique dataset."
   ]
  }
 ]
}